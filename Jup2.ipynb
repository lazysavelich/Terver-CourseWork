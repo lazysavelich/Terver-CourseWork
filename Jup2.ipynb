{
 "cells": [
  {
   "cell_type": "code",
   "execution_count": 25,
   "metadata": {},
   "outputs": [],
   "source": [
    "#imports and copy statistic to massive\n",
    "import csv\n",
    "from collections import Counter\n",
    "\n",
    "with open(\"stat.csv\") as file:\n",
    "    data = [float(row[0]) for row in list(csv.reader(file))]\n",
    "\n",
    "\n",
    "def Summary(data): #Sum of elements of data\n",
    "    return sum(data)\n",
    "\n",
    "\n",
    "def Mean(data): #Avarage value of elements of data\n",
    "    return sum(data)/len(data)\n",
    "\n",
    "\n",
    "def Mediana(data): #The middle element of data \n",
    "    lenData = len(data)\n",
    "    if lenData % 2==0 and lenData != 0:\n",
    "        return data[int(lenData/2  - 1)]\n",
    "    else:\n",
    "        return data[int(lenData/2)]\n",
    "    \n",
    "\n",
    "def Moda(data): #The most frequent element in data \n",
    "    return max(Counter(data).values())\n",
    "\n",
    "\n",
    "def Scale(data): #The difference between max and min in data\n",
    "    return max(data) - min(data)\n",
    "\n",
    "\n",
    "def BiasedDespersion(data): # Baised Despersion \n",
    "    return sum([(X - Mean(data))**2 for X in data])/len(data)\n",
    "    \n",
    "\n",
    "def UnBiasedDespersion(data):\n",
    "    return sum([(X - Mean(data))**2 for X in data])/(len(data)-1)\n",
    "\n",
    "def KStartMoment(data, k):\n",
    "    return sum([(X)**k for X in data])/len(data)\n",
    "\n",
    "def KCentreMoment(data, k):\n",
    "    return sum([(X - Mean(data))**k for X in data])/len(data)\n"
   ]
  }
 ],
 "metadata": {
  "kernelspec": {
   "display_name": "Python 3",
   "language": "python",
   "name": "python3"
  },
  "language_info": {
   "codemirror_mode": {
    "name": "ipython",
    "version": 3
   },
   "file_extension": ".py",
   "mimetype": "text/x-python",
   "name": "python",
   "nbconvert_exporter": "python",
   "pygments_lexer": "ipython3",
   "version": "3.11.2"
  },
  "orig_nbformat": 4
 },
 "nbformat": 4,
 "nbformat_minor": 2
}
